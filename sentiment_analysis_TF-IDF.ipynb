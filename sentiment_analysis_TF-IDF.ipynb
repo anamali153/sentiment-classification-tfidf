{
  "metadata": {
    "kernelspec": {
      "name": "python3",
      "display_name": "Python 3"
    },
    "language_info": {
      "name": "python"
    },
    "colab": {
      "provenance": []
    },
    "kaggle": {
      "accelerator": "none",
      "dataSources": [],
      "isInternetEnabled": true,
      "language": "python",
      "sourceType": "notebook",
      "isGpuEnabled": false
    }
  },
  "nbformat_minor": 0,
  "nbformat": 4,
  "cells": [
    {
      "cell_type": "code",
      "source": [
        "!pip install tika"
      ],
      "metadata": {
        "collapsed": true,
        "id": "xeX8h2XMtKXv",
        "jupyter": {
          "outputs_hidden": true
        }
      },
      "outputs": [],
      "execution_count": null
    },
    {
      "cell_type": "code",
      "source": [
        "# prompt: write code to list the total files in a directery\n",
        "\n",
        "import os\n",
        "def list_files(directory):\n",
        "    \"\"\"Lists all files in a given directory.\n",
        "\n",
        "    Args:\n",
        "        directory: The path to the directory.\n",
        "\n",
        "    Returns:\n",
        "        A list of file names in the directory.\n",
        "    \"\"\"\n",
        "    try:\n",
        "        files = os.listdir(directory)\n",
        "        print(f\"Total files in '{directory}': {len(files)}\")\n",
        "        return files\n",
        "    except FileNotFoundError:\n",
        "        print(f\"Directory '{directory}' not found.\")\n",
        "        return []\n",
        "    except Exception as e:\n",
        "        print(f\"An error occurred: {e}\")\n",
        "        return []\n",
        "# Example usage:\n",
        "directory_path = \"/content\" # Replace with your directory path\n",
        "file_list = list_files(directory_path)\n",
        "filesname = []\n",
        "if file_list:\n",
        "    print(\"Files:\")\n",
        "\n",
        "    for file in file_list:\n",
        "      print(file)\n",
        "      filesname.append(file)\n",
        "\n"
      ],
      "metadata": {
        "id": "3-vQXzXvuBjD"
      },
      "outputs": [],
      "execution_count": null
    },
    {
      "cell_type": "code",
      "source": [
        "filesname"
      ],
      "metadata": {
        "id": "Na-kqZqSuhsB"
      },
      "outputs": [],
      "execution_count": null
    },
    {
      "cell_type": "code",
      "source": [
        "#!/usr/bin/env python\n",
        "import tika\n",
        "tika.initVM()\n",
        "from tika import parser\n",
        "import pandas as pd\n",
        "\n",
        "df = pd.DataFrame(columns=['file_name', 'content'])\n",
        "\n",
        "content = []\n",
        "filename = []\n",
        "for i in filesname[1:-1]:\n",
        "  parsed = parser.from_file(i)\n",
        "  filename.append(i)\n",
        "  print(parsed[\"content\"])\n",
        "  content.append(parsed[\"content\"])\n",
        "  print(\"**************************************************************************\")\n",
        "  print(\"**************************************************************************\")\n",
        "\n",
        "df['file_name'] = filename\n",
        "df['content'] = content\n",
        "\n",
        "df.head()\n",
        "\n",
        "# parsed = parser.from_file('/content/A Survey of Transformer-based.pdf')\n",
        "# #print(parsed[\"metadata\"])\n",
        "# print(parsed[\"content\"])"
      ],
      "metadata": {
        "id": "kV4Mip9jSsPh",
        "collapsed": true,
        "jupyter": {
          "outputs_hidden": true
        }
      },
      "outputs": [],
      "execution_count": null
    },
    {
      "cell_type": "code",
      "source": [
        "df.head()"
      ],
      "metadata": {
        "id": "Rtvsijdtv1Yu"
      },
      "outputs": [],
      "execution_count": null
    },
    {
      "cell_type": "code",
      "source": [
        "df.content[1]"
      ],
      "metadata": {
        "id": "bIdElP82v67J"
      },
      "outputs": [],
      "execution_count": null
    },
    {
      "cell_type": "code",
      "source": [
        "# prompt: we need to tokenize this with sentence splits ans then with word tokenize\n",
        "\n",
        "import nltk\n",
        "nltk.download('punkt_tab')\n",
        "\n",
        "nltk.download('punkt')\n",
        "from nltk.tokenize import sent_tokenize, word_tokenize\n",
        "\n",
        "text = df.content[1]\n",
        "\n",
        "# Sentence tokenization\n",
        "sentences = sent_tokenize(text)\n",
        "print(\"Sentences:\")\n",
        "sentence_df = []\n",
        "sentence_sublist= []\n",
        "for sentence in sentences:\n",
        "    print(sentence)\n",
        "    sentence_sublist.append(sentence)\n",
        "    sentence_df.append(sentence)\n",
        "word_df = []\n",
        "words_sublist = []\n",
        "# Word tokenization for each sentence\n",
        "print(\"\\nWord tokens per sentence:\")\n",
        "for sentence in sentences:\n",
        "    words = word_tokenize(sentence)\n",
        "    words_sublist.append( words)\n",
        "word_df = words"
      ],
      "metadata": {
        "id": "m-9FwfkNv139"
      },
      "outputs": [],
      "execution_count": null
    },
    {
      "cell_type": "code",
      "source": [
        "df['word_df'] = word_df\n",
        "df['sentence_df'] = sentence_df\n",
        "\n",
        "df.head()"
      ],
      "metadata": {
        "collapsed": true,
        "id": "32iDlt3yw_S3",
        "jupyter": {
          "outputs_hidden": true
        }
      },
      "outputs": [],
      "execution_count": null
    },
    {
      "cell_type": "code",
      "source": [],
      "metadata": {
        "id": "SSsHF8-Uv15F"
      },
      "outputs": [],
      "execution_count": null
    },
    {
      "cell_type": "code",
      "source": [],
      "metadata": {
        "id": "KIzvLdx-v17K"
      },
      "outputs": [],
      "execution_count": null
    },
    {
      "cell_type": "code",
      "source": [],
      "metadata": {
        "id": "EPy4I41qv1-M"
      },
      "outputs": [],
      "execution_count": null
    },
    {
      "cell_type": "code",
      "source": [],
      "metadata": {
        "id": "CH2vKsYOv2A7"
      },
      "outputs": [],
      "execution_count": null
    },
    {
      "cell_type": "code",
      "source": [
        "import pandas as pd\n",
        "from sklearn.model_selection import train_test_split\n",
        "from sklearn.feature_extraction.text import TfidfVectorizer\n",
        "#from sklearn.linear_model import LogisticRegression\n",
        "from sklearn.naive_bayes import GaussianNB\n",
        "from sklearn.metrics import accuracy_score, classification_report\n",
        "\n",
        "# Sample data (replace with your actual data)\n",
        "data = {'text': ['This is a positive document.',\n",
        "                 'Another positive example.',\n",
        "                 'This document is negative.',\n",
        "                 'A negative sentiment example.'],\n",
        "        'label': [1, 1, 0, 0]}  # 1 for positive, 0 for negative\n",
        "df = pd.DataFrame(data)\n",
        "\n",
        "# Split data into training and testing sets\n",
        "X_train, X_test, y_train, y_test = train_test_split(df['text'], df['label'], test_size=0.2, random_state=42)\n",
        "\n",
        "# Create a TF-IDF vectorizer\n",
        "tfidf_vectorizer = TfidfVectorizer()\n",
        "\n",
        "# Fit and transform the training data\n",
        "X_train_tfidf = tfidf_vectorizer.fit_transform(X_train)\n",
        "\n",
        "# Transform the testing data (use the same vectorizer)\n",
        "X_test_tfidf = tfidf_vectorizer.transform(X_test)\n",
        "\n",
        "# Train a classifier (Logistic Regression in this example)\n",
        "#classifier = LogisticRegression()\n",
        "classifier = GaussianNB()\n",
        "classifier.fit(X_train_tfidf, y_train)\n",
        "\n",
        "# Make predictions on the test set\n",
        "y_pred = classifier.predict(X_test_tfidf)\n",
        "\n",
        "# Evaluate the classifier\n",
        "accuracy = accuracy_score(y_test, y_pred)\n",
        "print(f\"Accuracy: {accuracy}\")\n",
        "print(classification_report(y_test, y_pred))"
      ],
      "metadata": {
        "id": "kS54PsOBTmQa",
        "colab": {
          "base_uri": "https://localhost:8080/",
          "height": 1000
        },
        "collapsed": true,
        "outputId": "3f0cfbd7-671f-4eab-8e92-2d4e6a6a0c66"
      },
      "outputs": [
        {
          "output_type": "error",
          "ename": "TypeError",
          "evalue": "Sparse data was passed for X, but dense data is required. Use '.toarray()' to convert to a dense numpy array.",
          "traceback": [
            "\u001b[0;31m---------------------------------------------------------------------------\u001b[0m",
            "\u001b[0;31mTypeError\u001b[0m                                 Traceback (most recent call last)",
            "\u001b[0;32m<ipython-input-1-e77990df178d>\u001b[0m in \u001b[0;36m<cell line: 0>\u001b[0;34m()\u001b[0m\n\u001b[1;32m     29\u001b[0m \u001b[0;31m#classifier = LogisticRegression()\u001b[0m\u001b[0;34m\u001b[0m\u001b[0;34m\u001b[0m\u001b[0m\n\u001b[1;32m     30\u001b[0m \u001b[0mclassifier\u001b[0m \u001b[0;34m=\u001b[0m \u001b[0mGaussianNB\u001b[0m\u001b[0;34m(\u001b[0m\u001b[0;34m)\u001b[0m\u001b[0;34m\u001b[0m\u001b[0;34m\u001b[0m\u001b[0m\n\u001b[0;32m---> 31\u001b[0;31m \u001b[0mclassifier\u001b[0m\u001b[0;34m.\u001b[0m\u001b[0mfit\u001b[0m\u001b[0;34m(\u001b[0m\u001b[0mX_train_tfidf\u001b[0m\u001b[0;34m,\u001b[0m \u001b[0my_train\u001b[0m\u001b[0;34m)\u001b[0m\u001b[0;34m\u001b[0m\u001b[0;34m\u001b[0m\u001b[0m\n\u001b[0m\u001b[1;32m     32\u001b[0m \u001b[0;34m\u001b[0m\u001b[0m\n\u001b[1;32m     33\u001b[0m \u001b[0;31m# Make predictions on the test set\u001b[0m\u001b[0;34m\u001b[0m\u001b[0;34m\u001b[0m\u001b[0m\n",
            "\u001b[0;32m/usr/local/lib/python3.11/dist-packages/sklearn/base.py\u001b[0m in \u001b[0;36mwrapper\u001b[0;34m(estimator, *args, **kwargs)\u001b[0m\n\u001b[1;32m   1387\u001b[0m                 )\n\u001b[1;32m   1388\u001b[0m             ):\n\u001b[0;32m-> 1389\u001b[0;31m                 \u001b[0;32mreturn\u001b[0m \u001b[0mfit_method\u001b[0m\u001b[0;34m(\u001b[0m\u001b[0mestimator\u001b[0m\u001b[0;34m,\u001b[0m \u001b[0;34m*\u001b[0m\u001b[0margs\u001b[0m\u001b[0;34m,\u001b[0m \u001b[0;34m**\u001b[0m\u001b[0mkwargs\u001b[0m\u001b[0;34m)\u001b[0m\u001b[0;34m\u001b[0m\u001b[0;34m\u001b[0m\u001b[0m\n\u001b[0m\u001b[1;32m   1390\u001b[0m \u001b[0;34m\u001b[0m\u001b[0m\n\u001b[1;32m   1391\u001b[0m         \u001b[0;32mreturn\u001b[0m \u001b[0mwrapper\u001b[0m\u001b[0;34m\u001b[0m\u001b[0;34m\u001b[0m\u001b[0m\n",
            "\u001b[0;32m/usr/local/lib/python3.11/dist-packages/sklearn/naive_bayes.py\u001b[0m in \u001b[0;36mfit\u001b[0;34m(self, X, y, sample_weight)\u001b[0m\n\u001b[1;32m    264\u001b[0m         \"\"\"\n\u001b[1;32m    265\u001b[0m         \u001b[0my\u001b[0m \u001b[0;34m=\u001b[0m \u001b[0mvalidate_data\u001b[0m\u001b[0;34m(\u001b[0m\u001b[0mself\u001b[0m\u001b[0;34m,\u001b[0m \u001b[0my\u001b[0m\u001b[0;34m=\u001b[0m\u001b[0my\u001b[0m\u001b[0;34m)\u001b[0m\u001b[0;34m\u001b[0m\u001b[0;34m\u001b[0m\u001b[0m\n\u001b[0;32m--> 266\u001b[0;31m         return self._partial_fit(\n\u001b[0m\u001b[1;32m    267\u001b[0m             \u001b[0mX\u001b[0m\u001b[0;34m,\u001b[0m \u001b[0my\u001b[0m\u001b[0;34m,\u001b[0m \u001b[0mnp\u001b[0m\u001b[0;34m.\u001b[0m\u001b[0munique\u001b[0m\u001b[0;34m(\u001b[0m\u001b[0my\u001b[0m\u001b[0;34m)\u001b[0m\u001b[0;34m,\u001b[0m \u001b[0m_refit\u001b[0m\u001b[0;34m=\u001b[0m\u001b[0;32mTrue\u001b[0m\u001b[0;34m,\u001b[0m \u001b[0msample_weight\u001b[0m\u001b[0;34m=\u001b[0m\u001b[0msample_weight\u001b[0m\u001b[0;34m\u001b[0m\u001b[0;34m\u001b[0m\u001b[0m\n\u001b[1;32m    268\u001b[0m         )\n",
            "\u001b[0;32m/usr/local/lib/python3.11/dist-packages/sklearn/naive_bayes.py\u001b[0m in \u001b[0;36m_partial_fit\u001b[0;34m(self, X, y, classes, _refit, sample_weight)\u001b[0m\n\u001b[1;32m    424\u001b[0m \u001b[0;34m\u001b[0m\u001b[0m\n\u001b[1;32m    425\u001b[0m         \u001b[0mfirst_call\u001b[0m \u001b[0;34m=\u001b[0m \u001b[0m_check_partial_fit_first_call\u001b[0m\u001b[0;34m(\u001b[0m\u001b[0mself\u001b[0m\u001b[0;34m,\u001b[0m \u001b[0mclasses\u001b[0m\u001b[0;34m)\u001b[0m\u001b[0;34m\u001b[0m\u001b[0;34m\u001b[0m\u001b[0m\n\u001b[0;32m--> 426\u001b[0;31m         \u001b[0mX\u001b[0m\u001b[0;34m,\u001b[0m \u001b[0my\u001b[0m \u001b[0;34m=\u001b[0m \u001b[0mvalidate_data\u001b[0m\u001b[0;34m(\u001b[0m\u001b[0mself\u001b[0m\u001b[0;34m,\u001b[0m \u001b[0mX\u001b[0m\u001b[0;34m,\u001b[0m \u001b[0my\u001b[0m\u001b[0;34m,\u001b[0m \u001b[0mreset\u001b[0m\u001b[0;34m=\u001b[0m\u001b[0mfirst_call\u001b[0m\u001b[0;34m)\u001b[0m\u001b[0;34m\u001b[0m\u001b[0;34m\u001b[0m\u001b[0m\n\u001b[0m\u001b[1;32m    427\u001b[0m         \u001b[0;32mif\u001b[0m \u001b[0msample_weight\u001b[0m \u001b[0;32mis\u001b[0m \u001b[0;32mnot\u001b[0m \u001b[0;32mNone\u001b[0m\u001b[0;34m:\u001b[0m\u001b[0;34m\u001b[0m\u001b[0;34m\u001b[0m\u001b[0m\n\u001b[1;32m    428\u001b[0m             \u001b[0msample_weight\u001b[0m \u001b[0;34m=\u001b[0m \u001b[0m_check_sample_weight\u001b[0m\u001b[0;34m(\u001b[0m\u001b[0msample_weight\u001b[0m\u001b[0;34m,\u001b[0m \u001b[0mX\u001b[0m\u001b[0;34m)\u001b[0m\u001b[0;34m\u001b[0m\u001b[0;34m\u001b[0m\u001b[0m\n",
            "\u001b[0;32m/usr/local/lib/python3.11/dist-packages/sklearn/utils/validation.py\u001b[0m in \u001b[0;36mvalidate_data\u001b[0;34m(_estimator, X, y, reset, validate_separately, skip_check_array, **check_params)\u001b[0m\n\u001b[1;32m   2959\u001b[0m             \u001b[0my\u001b[0m \u001b[0;34m=\u001b[0m \u001b[0mcheck_array\u001b[0m\u001b[0;34m(\u001b[0m\u001b[0my\u001b[0m\u001b[0;34m,\u001b[0m \u001b[0minput_name\u001b[0m\u001b[0;34m=\u001b[0m\u001b[0;34m\"y\"\u001b[0m\u001b[0;34m,\u001b[0m \u001b[0;34m**\u001b[0m\u001b[0mcheck_y_params\u001b[0m\u001b[0;34m)\u001b[0m\u001b[0;34m\u001b[0m\u001b[0;34m\u001b[0m\u001b[0m\n\u001b[1;32m   2960\u001b[0m         \u001b[0;32melse\u001b[0m\u001b[0;34m:\u001b[0m\u001b[0;34m\u001b[0m\u001b[0;34m\u001b[0m\u001b[0m\n\u001b[0;32m-> 2961\u001b[0;31m             \u001b[0mX\u001b[0m\u001b[0;34m,\u001b[0m \u001b[0my\u001b[0m \u001b[0;34m=\u001b[0m \u001b[0mcheck_X_y\u001b[0m\u001b[0;34m(\u001b[0m\u001b[0mX\u001b[0m\u001b[0;34m,\u001b[0m \u001b[0my\u001b[0m\u001b[0;34m,\u001b[0m \u001b[0;34m**\u001b[0m\u001b[0mcheck_params\u001b[0m\u001b[0;34m)\u001b[0m\u001b[0;34m\u001b[0m\u001b[0;34m\u001b[0m\u001b[0m\n\u001b[0m\u001b[1;32m   2962\u001b[0m         \u001b[0mout\u001b[0m \u001b[0;34m=\u001b[0m \u001b[0mX\u001b[0m\u001b[0;34m,\u001b[0m \u001b[0my\u001b[0m\u001b[0;34m\u001b[0m\u001b[0;34m\u001b[0m\u001b[0m\n\u001b[1;32m   2963\u001b[0m \u001b[0;34m\u001b[0m\u001b[0m\n",
            "\u001b[0;32m/usr/local/lib/python3.11/dist-packages/sklearn/utils/validation.py\u001b[0m in \u001b[0;36mcheck_X_y\u001b[0;34m(X, y, accept_sparse, accept_large_sparse, dtype, order, copy, force_writeable, force_all_finite, ensure_all_finite, ensure_2d, allow_nd, multi_output, ensure_min_samples, ensure_min_features, y_numeric, estimator)\u001b[0m\n\u001b[1;32m   1368\u001b[0m     \u001b[0mensure_all_finite\u001b[0m \u001b[0;34m=\u001b[0m \u001b[0m_deprecate_force_all_finite\u001b[0m\u001b[0;34m(\u001b[0m\u001b[0mforce_all_finite\u001b[0m\u001b[0;34m,\u001b[0m \u001b[0mensure_all_finite\u001b[0m\u001b[0;34m)\u001b[0m\u001b[0;34m\u001b[0m\u001b[0;34m\u001b[0m\u001b[0m\n\u001b[1;32m   1369\u001b[0m \u001b[0;34m\u001b[0m\u001b[0m\n\u001b[0;32m-> 1370\u001b[0;31m     X = check_array(\n\u001b[0m\u001b[1;32m   1371\u001b[0m         \u001b[0mX\u001b[0m\u001b[0;34m,\u001b[0m\u001b[0;34m\u001b[0m\u001b[0;34m\u001b[0m\u001b[0m\n\u001b[1;32m   1372\u001b[0m         \u001b[0maccept_sparse\u001b[0m\u001b[0;34m=\u001b[0m\u001b[0maccept_sparse\u001b[0m\u001b[0;34m,\u001b[0m\u001b[0;34m\u001b[0m\u001b[0;34m\u001b[0m\u001b[0m\n",
            "\u001b[0;32m/usr/local/lib/python3.11/dist-packages/sklearn/utils/validation.py\u001b[0m in \u001b[0;36mcheck_array\u001b[0;34m(array, accept_sparse, accept_large_sparse, dtype, order, copy, force_writeable, force_all_finite, ensure_all_finite, ensure_non_negative, ensure_2d, allow_nd, ensure_min_samples, ensure_min_features, estimator, input_name)\u001b[0m\n\u001b[1;32m   1012\u001b[0m     \u001b[0;32mif\u001b[0m \u001b[0msp\u001b[0m\u001b[0;34m.\u001b[0m\u001b[0missparse\u001b[0m\u001b[0;34m(\u001b[0m\u001b[0marray\u001b[0m\u001b[0;34m)\u001b[0m\u001b[0;34m:\u001b[0m\u001b[0;34m\u001b[0m\u001b[0;34m\u001b[0m\u001b[0m\n\u001b[1;32m   1013\u001b[0m         \u001b[0m_ensure_no_complex_data\u001b[0m\u001b[0;34m(\u001b[0m\u001b[0marray\u001b[0m\u001b[0;34m)\u001b[0m\u001b[0;34m\u001b[0m\u001b[0;34m\u001b[0m\u001b[0m\n\u001b[0;32m-> 1014\u001b[0;31m         array = _ensure_sparse_format(\n\u001b[0m\u001b[1;32m   1015\u001b[0m             \u001b[0marray\u001b[0m\u001b[0;34m,\u001b[0m\u001b[0;34m\u001b[0m\u001b[0;34m\u001b[0m\u001b[0m\n\u001b[1;32m   1016\u001b[0m             \u001b[0maccept_sparse\u001b[0m\u001b[0;34m=\u001b[0m\u001b[0maccept_sparse\u001b[0m\u001b[0;34m,\u001b[0m\u001b[0;34m\u001b[0m\u001b[0;34m\u001b[0m\u001b[0m\n",
            "\u001b[0;32m/usr/local/lib/python3.11/dist-packages/sklearn/utils/validation.py\u001b[0m in \u001b[0;36m_ensure_sparse_format\u001b[0;34m(sparse_container, accept_sparse, dtype, copy, ensure_all_finite, accept_large_sparse, estimator_name, input_name)\u001b[0m\n\u001b[1;32m    611\u001b[0m     \u001b[0;32mif\u001b[0m \u001b[0maccept_sparse\u001b[0m \u001b[0;32mis\u001b[0m \u001b[0;32mFalse\u001b[0m\u001b[0;34m:\u001b[0m\u001b[0;34m\u001b[0m\u001b[0;34m\u001b[0m\u001b[0m\n\u001b[1;32m    612\u001b[0m         \u001b[0mpadded_input\u001b[0m \u001b[0;34m=\u001b[0m \u001b[0;34m\" for \"\u001b[0m \u001b[0;34m+\u001b[0m \u001b[0minput_name\u001b[0m \u001b[0;32mif\u001b[0m \u001b[0minput_name\u001b[0m \u001b[0;32melse\u001b[0m \u001b[0;34m\"\"\u001b[0m\u001b[0;34m\u001b[0m\u001b[0;34m\u001b[0m\u001b[0m\n\u001b[0;32m--> 613\u001b[0;31m         raise TypeError(\n\u001b[0m\u001b[1;32m    614\u001b[0m             \u001b[0;34mf\"Sparse data was passed{padded_input}, but dense data is required. \"\u001b[0m\u001b[0;34m\u001b[0m\u001b[0;34m\u001b[0m\u001b[0m\n\u001b[1;32m    615\u001b[0m             \u001b[0;34m\"Use '.toarray()' to convert to a dense numpy array.\"\u001b[0m\u001b[0;34m\u001b[0m\u001b[0;34m\u001b[0m\u001b[0m\n",
            "\u001b[0;31mTypeError\u001b[0m: Sparse data was passed for X, but dense data is required. Use '.toarray()' to convert to a dense numpy array."
          ]
        }
      ],
      "execution_count": null
    },
    {
      "cell_type": "code",
      "source": [
        "X_test_tfidf"
      ],
      "metadata": {
        "id": "vonq9iKKss9N",
        "colab": {
          "base_uri": "https://localhost:8080/"
        },
        "outputId": "ca408240-4b41-4721-e469-cb694d19a6a2"
      },
      "outputs": [
        {
          "output_type": "execute_result",
          "data": {
            "text/plain": [
              "<Compressed Sparse Row sparse matrix of dtype 'float64'\n",
              "\twith 2 stored elements and shape (1, 7)>"
            ]
          },
          "metadata": {},
          "execution_count": 3
        }
      ],
      "execution_count": null
    },
    {
      "cell_type": "code",
      "source": [
        "# Import necessary libraries\n",
        "import pandas as pd\n",
        "from sklearn.feature_extraction.text import TfidfVectorizer\n",
        "\n",
        "# Sample text data\n",
        "documents = [\n",
        "    \"the cat sat on the mat\",\n",
        "    \"the dog sat on the log\",\n",
        "    \"cats and dogs are animals\",\n",
        "    \"cats and dogs are animals, animals are good for envirment, animals are eat grass, animals give milk are \",\n",
        "    \"cats and dogs are animals\",\n",
        "    \"cats and dogs are animals\",\n",
        "    \"cats and dogs are animals\",\n",
        "    \"cats and dogs are animals\",\n",
        "    \"cats and dogs are animals\"\n",
        "]\n",
        "\n",
        "# Initialize the TF-IDF Vectorizer\n",
        "tfidf_vectorizer = TfidfVectorizer()\n",
        "\n",
        "# Fit and transform the documents\n",
        "tfidf_matrix = tfidf_vectorizer.fit_transform(documents)\n",
        "\n",
        "# Convert the TF-IDF matrix to a DataFrame for better readability\n",
        "tfidf_df = pd.DataFrame(tfidf_matrix.toarray(), columns=tfidf_vectorizer.get_feature_names_out())\n",
        "\n",
        "print(\"TF-IDF Representation:\\n\")\n",
        "print(tfidf_df)\n"
      ],
      "metadata": {
        "id": "hjSEI0eNTE6-",
        "outputId": "75337c98-8ee5-49b4-e152-b93ba0bae810",
        "colab": {
          "base_uri": "https://localhost:8080/"
        }
      },
      "outputs": [
        {
          "output_type": "stream",
          "name": "stdout",
          "text": [
            "TF-IDF Representation:\n",
            "\n",
            "        and   animals       are       cat      cats       dog      dogs  \\\n",
            "0  0.000000  0.000000  0.000000  0.399035  0.000000  0.000000  0.000000   \n",
            "1  0.000000  0.000000  0.000000  0.000000  0.000000  0.399035  0.000000   \n",
            "2  0.447214  0.447214  0.447214  0.000000  0.447214  0.000000  0.447214   \n",
            "3  0.122298  0.489191  0.489191  0.000000  0.122298  0.000000  0.122298   \n",
            "4  0.447214  0.447214  0.447214  0.000000  0.447214  0.000000  0.447214   \n",
            "5  0.447214  0.447214  0.447214  0.000000  0.447214  0.000000  0.447214   \n",
            "6  0.447214  0.447214  0.447214  0.000000  0.447214  0.000000  0.447214   \n",
            "7  0.447214  0.447214  0.447214  0.000000  0.447214  0.000000  0.447214   \n",
            "8  0.447214  0.447214  0.447214  0.000000  0.447214  0.000000  0.447214   \n",
            "\n",
            "        eat  envirment       for      give      good     grass       log  \\\n",
            "0  0.000000   0.000000  0.000000  0.000000  0.000000  0.000000  0.000000   \n",
            "1  0.000000   0.000000  0.000000  0.000000  0.000000  0.000000  0.399035   \n",
            "2  0.000000   0.000000  0.000000  0.000000  0.000000  0.000000  0.000000   \n",
            "3  0.260909   0.260909  0.260909  0.260909  0.260909  0.260909  0.000000   \n",
            "4  0.000000   0.000000  0.000000  0.000000  0.000000  0.000000  0.000000   \n",
            "5  0.000000   0.000000  0.000000  0.000000  0.000000  0.000000  0.000000   \n",
            "6  0.000000   0.000000  0.000000  0.000000  0.000000  0.000000  0.000000   \n",
            "7  0.000000   0.000000  0.000000  0.000000  0.000000  0.000000  0.000000   \n",
            "8  0.000000   0.000000  0.000000  0.000000  0.000000  0.000000  0.000000   \n",
            "\n",
            "        mat      milk        on       sat       the  \n",
            "0  0.399035  0.000000  0.337032  0.337032  0.674063  \n",
            "1  0.000000  0.000000  0.337032  0.337032  0.674063  \n",
            "2  0.000000  0.000000  0.000000  0.000000  0.000000  \n",
            "3  0.000000  0.260909  0.000000  0.000000  0.000000  \n",
            "4  0.000000  0.000000  0.000000  0.000000  0.000000  \n",
            "5  0.000000  0.000000  0.000000  0.000000  0.000000  \n",
            "6  0.000000  0.000000  0.000000  0.000000  0.000000  \n",
            "7  0.000000  0.000000  0.000000  0.000000  0.000000  \n",
            "8  0.000000  0.000000  0.000000  0.000000  0.000000  \n"
          ]
        }
      ],
      "execution_count": null
    },
    {
      "cell_type": "code",
      "source": [],
      "metadata": {
        "id": "eTWyCG61sNMt"
      },
      "outputs": [],
      "execution_count": null
    },
    {
      "cell_type": "markdown",
      "source": [],
      "metadata": {
        "id": "_GfArzoiTLip"
      }
    },
    {
      "cell_type": "code",
      "source": [
        "# Required Libraries\n",
        "import pandas as pd\n",
        "import numpy as np\n",
        "import matplotlib.pyplot as plt\n",
        "from sklearn.feature_extraction.text import TfidfVectorizer\n",
        "from sklearn.model_selection import train_test_split\n",
        "from sklearn.naive_bayes import MultinomialNB\n",
        "from sklearn.metrics import classification_report, accuracy_score\n",
        "from sklearn.preprocessing import LabelEncoder\n",
        "\n",
        "# Step 1: Sample dataset creation (You can replace this with your dataset)\n",
        "data = {\n",
        "    'text': [\n",
        "        \"Stock prices have been soaring this week\",\n",
        "        \"AI advancements are changing the tech industry\",\n",
        "        \"The stock market crash was inevitable after recent trends\",\n",
        "        \"The tech industry is booming, especially AI development\",\n",
        "        \"Finance experts predict a stable economy in the coming years\",\n",
        "        \"Investing in AI stocks has been profitable\",\n",
        "        \"The Federal Reserve announced a new interest rate hike\",\n",
        "        \"Technology companies are competing in AI-driven markets\",\n",
        "        \"There is a new wave of innovation in financial technology\",\n",
        "        \"The rise of tech giants is shaping the global economy\",\n",
        "        \"Economic recovery is slow but steady\",\n",
        "        \"The government plans to invest in technology startups\",\n",
        "        \"Tech stocks are rising faster than ever\",\n",
        "        \"AI models are becoming more accurate in prediction tasks\",\n",
        "        \"Digital transformation is affecting traditional finance industries\",\n",
        "        \"Cryptocurrency markets are fluctuating wildly\",\n",
        "        \"Smartphones are getting smarter with AI integration\",\n",
        "        \"Interest rates have a significant impact on the stock market\",\n",
        "        \"Artificial intelligence is changing the way we work\",\n",
        "        \"The future of the stock market lies in technology investments\",\n",
        "        \"Fintech companies are transforming the financial landscape\",\n",
        "        \"Cloud computing is an essential part of modern tech infrastructure\",\n",
        "        \"Tech companies are becoming the most valuable in the world\",\n",
        "        \"Stock market analysts are predicting growth in tech investments\",\n",
        "        \"The financial sector is adopting more technology for automation\",\n",
        "        \"Artificial intelligence is a game-changer for healthcare\"\n",
        "    ],\n",
        "    'label': [\n",
        "        'finance', 'tech', 'finance', 'tech', 'finance', 'finance', 'finance', 'tech', 'finance', 'tech',\n",
        "        'finance', 'tech', 'tech', 'tech', 'finance', 'finance', 'tech', 'finance', 'tech', 'finance',\n",
        "        'tech', 'finance', 'tech', 'tech', 'finance', 'finance'\n",
        "    ]\n",
        "}\n",
        "\n",
        "\n",
        "# Convert data into DataFrame\n",
        "df = pd.DataFrame(data)\n",
        "\n",
        "# Step 2: Preprocess the data\n",
        "# Convert labels to numerical values\n",
        "le = LabelEncoder()\n",
        "df['label'] = le.fit_transform(df['label'])\n",
        "\n",
        "# Step 3: Vectorize the text using TF-IDF\n",
        "tfidf_vectorizer = TfidfVectorizer(max_features=10)  # limit to top 10 features\n",
        "X = tfidf_vectorizer.fit_transform(df['text'])\n",
        "y = df['label']\n",
        "\n",
        "# Step 4: Split data into training and testing sets\n",
        "X_train, X_test, y_train, y_test = train_test_split(X, y, test_size=0.3, random_state=42)\n",
        "\n",
        "# Step 5: Train a classification model (Naive Bayes)\n",
        "model = MultinomialNB()\n",
        "model.fit(X_train, y_train)\n",
        "\n",
        "# Step 6: Evaluate the model\n",
        "y_pred = model.predict(X_test)\n",
        "print(\"Accuracy:\", accuracy_score(y_test, y_pred))\n",
        "print(\"\\nClassification Report:\\n\", classification_report(y_test, y_pred))\n",
        "\n",
        "# Step 7: Get the feature importance (TF-IDF weights) from the trained model\n",
        "# Get the feature names (words)\n",
        "feature_names = np.array(tfidf_vectorizer.get_feature_names_out())\n",
        "\n",
        "# Get the log-probabilities of each feature for each class\n",
        "log_probabilities = model.feature_log_prob_\n",
        "\n",
        "# Step 8: Visualize the important features for the 'finance' class\n",
        "class_label = 'finance'\n",
        "class_idx = le.transform([class_label])[0]\n",
        "\n",
        "# Get the top features for the 'finance' class (most positive log-probabilities)\n",
        "top_features_idx = log_probabilities[class_idx].argsort()[-5:][::-1]  # top 5 important features\n",
        "top_features = feature_names[top_features_idx]\n",
        "top_features_coeff = log_probabilities[class_idx][top_features_idx]\n",
        "\n",
        "# Plot the most important features for the 'finance' class\n",
        "plt.figure(figsize=(10, 6))\n",
        "plt.barh(top_features, top_features_coeff, color='skyblue')\n",
        "plt.xlabel('Log Probabilities')\n",
        "plt.title(f'Important Features for {class_label.capitalize()} Class')\n",
        "plt.show()\n",
        "\n",
        "# Step 9: Visualize less important features\n",
        "# Get the least important features for the 'finance' class\n",
        "least_features_idx = log_probabilities[class_idx].argsort()[:5]  # least 5 important features\n",
        "least_features = feature_names[least_features_idx]\n",
        "least_features_coeff = log_probabilities[class_idx][least_features_idx]\n",
        "\n",
        "# Plot the least important features for the 'finance' class\n",
        "plt.figure(figsize=(10, 6))\n",
        "plt.barh(least_features, least_features_coeff, color='salmon')\n",
        "plt.xlabel('Log Probabilities')\n",
        "plt.title(f'Less Important Features for {class_label.capitalize()} Class')\n",
        "plt.show()\n"
      ],
      "metadata": {
        "id": "vTXBWYzu6AWo",
        "colab": {
          "base_uri": "https://localhost:8080/",
          "height": 1000
        },
        "outputId": "d9e8f00f-bede-456a-a0df-fe94385962dd"
      },
      "outputs": [
        {
          "output_type": "stream",
          "name": "stdout",
          "text": [
            "Accuracy: 0.75\n",
            "\n",
            "Classification Report:\n",
            "               precision    recall  f1-score   support\n",
            "\n",
            "           0       0.60      1.00      0.75         3\n",
            "           1       1.00      0.60      0.75         5\n",
            "\n",
            "    accuracy                           0.75         8\n",
            "   macro avg       0.80      0.80      0.75         8\n",
            "weighted avg       0.85      0.75      0.75         8\n",
            "\n"
          ]
        },
        {
          "output_type": "display_data",
          "data": {
            "text/plain": [
              "<Figure size 1000x600 with 1 Axes>"
            ],
            "image/png": "[encoded data removed]"
          },
          "metadata": {}
        },
        {
          "output_type": "display_data",
          "data": {
            "text/plain": [
              "<Figure size 1000x600 with 1 Axes>"
            ],
            "image/png": "[encoded data removed]"
          },
          "metadata": {}
        }
      ],
      "execution_count": null
    }
  ]
}